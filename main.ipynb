{
 "cells": [
  {
   "cell_type": "code",
   "execution_count": 5,
   "metadata": {},
   "outputs": [],
   "source": [
    "import pyodbc\n",
    "import pandas as pd\n",
    "import numpy as np"
   ]
  },
  {
   "cell_type": "code",
   "execution_count": 6,
   "metadata": {},
   "outputs": [],
   "source": [
    "# Database connection\n",
    "server = 'server_name'\n",
    "db = 'db_name'\n",
    "user = 'user'\n",
    "password = 'pass'"
   ]
  },
  {
   "cell_type": "code",
   "execution_count": 7,
   "metadata": {},
   "outputs": [
    {
     "data": {
      "text/plain": [
       "'\\n# Lista de controladores ODBC instalados\\ndrivers = [driver for driver in pyodbc.drivers()]\\n\\n# Imprimir los controladores ODBC disponibles\\nprint(\"Controladores ODBC instalados:\")\\nfor driver in drivers:\\n    print(driver)\\n\\n'"
      ]
     },
     "execution_count": 7,
     "metadata": {},
     "output_type": "execute_result"
    }
   ],
   "source": [
    "# To check for problems with the connection_manager and which driver to use.\n",
    "\"\"\"\n",
    "# List of installed ODBC drivers\n",
    "drivers = [driver for driver in pyodbc.drivers()]]\n",
    "\n",
    "# Print available ODBC drivers\n",
    "print(\"ODBC drivers installed:\")\n",
    "for driver in drivers:\n",
    "    print(driver)\n",
    "\n",
    "\"\"\""
   ]
  },
  {
   "cell_type": "code",
   "execution_count": 8,
   "metadata": {},
   "outputs": [
    {
     "name": "stdout",
     "output_type": "stream",
     "text": [
      "successful connection\n"
     ]
    }
   ],
   "source": [
    "# Conection manager\n",
    "try:\n",
    "    #connection_string = 'DRIVER={SQL Server Native Client 11.0};SERVER='+server+';DATABASE='+db+';UID='+user+';PWD='+password+''\n",
    "    connection_string = f'DRIVER={{ODBC Driver 17 for SQL Server}};SERVER={server};DATABASE={db};UID={user};PWD={password}'\n",
    "    print('successful connection')\n",
    "\n",
    "except pyodbc.Error as e:\n",
    "    print('Error al conectar a la base de datos:', e)\n",
    "\n"
   ]
  },
  {
   "cell_type": "code",
   "execution_count": 9,
   "metadata": {},
   "outputs": [
    {
     "name": "stderr",
     "output_type": "stream",
     "text": [
      "C:\\Users\\alexm\\AppData\\Local\\Temp\\ipykernel_11920\\621900380.py:17: UserWarning: pandas only supports SQLAlchemy connectable (engine/connection) or database string URI or sqlite3 DBAPI2 connection. Other DBAPI2 objects are not tested. Please consider using SQLAlchemy.\n",
      "  df = pd.read_sql(query, conn)\n"
     ]
    }
   ],
   "source": [
    "# Connect to the database\n",
    "conn = pyodbc.connect(connection_string)\n",
    "\n",
    "# Create a cursor\n",
    "cursor = conn.cursor()\n",
    "\n",
    "# Define the SQL query\n",
    "query = \"SELECT [bst_nr_8], [prod_datum], [number_trips], [minutes] FROM [DWH].[dbo].[deutschebahn_real_trafic_data] WITH (NOLOCK) WHERE [country] = 'DEUTSCHLAND'\"\n",
    "\n",
    "# Execute the query\n",
    "cursor.execute(query)\n",
    "\n",
    "# Get the results\n",
    "resultados = cursor.fetchall()\n",
    "\n",
    "# Execute the query with the value\n",
    "df = pd.read_sql(query, conn)\n",
    "\n",
    "# Close conection\n",
    "cursor.close()\n",
    "conn.close()\n"
   ]
  },
  {
   "cell_type": "code",
   "execution_count": 10,
   "metadata": {},
   "outputs": [
    {
     "data": {
      "text/html": [
       "<div>\n",
       "<style scoped>\n",
       "    .dataframe tbody tr th:only-of-type {\n",
       "        vertical-align: middle;\n",
       "    }\n",
       "\n",
       "    .dataframe tbody tr th {\n",
       "        vertical-align: top;\n",
       "    }\n",
       "\n",
       "    .dataframe thead th {\n",
       "        text-align: right;\n",
       "    }\n",
       "</style>\n",
       "<table border=\"1\" class=\"dataframe\">\n",
       "  <thead>\n",
       "    <tr style=\"text-align: right;\">\n",
       "      <th></th>\n",
       "      <th>bst_nr_8</th>\n",
       "      <th>prod_datum</th>\n",
       "      <th>number_trips</th>\n",
       "      <th>minutes</th>\n",
       "    </tr>\n",
       "  </thead>\n",
       "  <tbody>\n",
       "    <tr>\n",
       "      <th>0</th>\n",
       "      <td>80197079</td>\n",
       "      <td>2016-03-16</td>\n",
       "      <td>39</td>\n",
       "      <td>49</td>\n",
       "    </tr>\n",
       "    <tr>\n",
       "      <th>1</th>\n",
       "      <td>80160168</td>\n",
       "      <td>2016-11-01</td>\n",
       "      <td>12</td>\n",
       "      <td>0</td>\n",
       "    </tr>\n",
       "    <tr>\n",
       "      <th>2</th>\n",
       "      <td>80105122</td>\n",
       "      <td>2016-04-30</td>\n",
       "      <td>16</td>\n",
       "      <td>2</td>\n",
       "    </tr>\n",
       "    <tr>\n",
       "      <th>3</th>\n",
       "      <td>80190793</td>\n",
       "      <td>2016-07-31</td>\n",
       "      <td>14</td>\n",
       "      <td>0</td>\n",
       "    </tr>\n",
       "    <tr>\n",
       "      <th>4</th>\n",
       "      <td>80231464</td>\n",
       "      <td>2016-05-04</td>\n",
       "      <td>10</td>\n",
       "      <td>2</td>\n",
       "    </tr>\n",
       "    <tr>\n",
       "      <th>...</th>\n",
       "      <td>...</td>\n",
       "      <td>...</td>\n",
       "      <td>...</td>\n",
       "      <td>...</td>\n",
       "    </tr>\n",
       "    <tr>\n",
       "      <th>771616</th>\n",
       "      <td>80136234</td>\n",
       "      <td>2016-10-26</td>\n",
       "      <td>82</td>\n",
       "      <td>0</td>\n",
       "    </tr>\n",
       "    <tr>\n",
       "      <th>771617</th>\n",
       "      <td>80100388</td>\n",
       "      <td>2016-01-29</td>\n",
       "      <td>33</td>\n",
       "      <td>2</td>\n",
       "    </tr>\n",
       "    <tr>\n",
       "      <th>771618</th>\n",
       "      <td>80143321</td>\n",
       "      <td>2016-05-30</td>\n",
       "      <td>40</td>\n",
       "      <td>0</td>\n",
       "    </tr>\n",
       "    <tr>\n",
       "      <th>771619</th>\n",
       "      <td>80174508</td>\n",
       "      <td>2016-07-05</td>\n",
       "      <td>14</td>\n",
       "      <td>0</td>\n",
       "    </tr>\n",
       "    <tr>\n",
       "      <th>771620</th>\n",
       "      <td>80136267</td>\n",
       "      <td>2016-02-09</td>\n",
       "      <td>84</td>\n",
       "      <td>19</td>\n",
       "    </tr>\n",
       "  </tbody>\n",
       "</table>\n",
       "<p>771621 rows × 4 columns</p>\n",
       "</div>"
      ],
      "text/plain": [
       "        bst_nr_8 prod_datum  number_trips  minutes\n",
       "0       80197079 2016-03-16            39       49\n",
       "1       80160168 2016-11-01            12        0\n",
       "2       80105122 2016-04-30            16        2\n",
       "3       80190793 2016-07-31            14        0\n",
       "4       80231464 2016-05-04            10        2\n",
       "...          ...        ...           ...      ...\n",
       "771616  80136234 2016-10-26            82        0\n",
       "771617  80100388 2016-01-29            33        2\n",
       "771618  80143321 2016-05-30            40        0\n",
       "771619  80174508 2016-07-05            14        0\n",
       "771620  80136267 2016-02-09            84       19\n",
       "\n",
       "[771621 rows x 4 columns]"
      ]
     },
     "execution_count": 10,
     "metadata": {},
     "output_type": "execute_result"
    }
   ],
   "source": [
    "df"
   ]
  },
  {
   "cell_type": "code",
   "execution_count": 11,
   "metadata": {},
   "outputs": [
    {
     "name": "stdout",
     "output_type": "stream",
     "text": [
      "        bst_nr_8  prod_datum  number_trips  minutes  avg_delay_per_trip\n",
      "0       80011346  2016-11-30           245      308                1.26\n",
      "1       80011833  2016-11-30           241      230                0.95\n",
      "2       80135079  2016-11-30           207      246                1.19\n",
      "3       80135095  2016-11-30           197      203                1.03\n",
      "4       80135624  2016-11-30           193     1148                5.95\n",
      "...          ...         ...           ...      ...                 ...\n",
      "771616  80113811  2016-01-15            10        0                0.00\n",
      "771617  80195867  2016-01-15            10        0                0.00\n",
      "771618  80163154  2016-01-15            10        0                0.00\n",
      "771619  80295220  2016-01-15            10        0                0.00\n",
      "771620  80295816  2016-01-15            10        0                0.00\n",
      "\n",
      "[771621 rows x 5 columns]\n"
     ]
    }
   ],
   "source": [
    "# Filter data by country\n",
    "df_filtered = df\n",
    "\n",
    "# Convert column prod_datum to type DATE\n",
    "df_filtered['prod_datum'] = pd.to_datetime(df_filtered['prod_datum']).dt.date\n",
    "\n",
    "# Calculate avg_delay_per_trip column\n",
    "df_filtered['avg_delay_per_trip'] = df_filtered['minutes'] / df_filtered['number_trips']\n",
    "df_filtered['avg_delay_per_trip'] = df_filtered['avg_delay_per_trip'].round(2)\n",
    "\n",
    "# Select the required columns (just to be more specific)\n",
    "columns_to_select = ['bst_nr_8', 'prod_datum', 'number_trips', 'minutes', 'avg_delay_per_trip']\n",
    "result_df = df_filtered[columns_to_select]\n",
    "\n",
    "# Sort dataframe\n",
    "result_df = result_df.sort_values(by=['prod_datum', 'number_trips', 'minutes'], ascending=[False, False, False])\n",
    "\n",
    "# Reset the DataFrame index (like the original df)\n",
    "result_df = result_df.reset_index(drop=True)\n",
    "\n",
    "print(result_df)\n"
   ]
  },
  {
   "cell_type": "code",
   "execution_count": 16,
   "metadata": {},
   "outputs": [],
   "source": [
    "# Total\n",
    "total = len(result_df)\n",
    "\n",
    "# With delay\n",
    "delay = len(result_df[result_df['minutes'] > 0])\n",
    "\n",
    "# Without delay\n",
    "correct = len(result_df[result_df['minutes'] <= 0])\n",
    "\n",
    "# Percentage delay\n",
    "percentage_delay = (delay / total) * 100\n",
    "\n",
    "# Percentage without delay\n",
    "percentage_correct = (correct / total) * 100"
   ]
  },
  {
   "cell_type": "code",
   "execution_count": 15,
   "metadata": {},
   "outputs": [
    {
     "name": "stdout",
     "output_type": "stream",
     "text": [
      "In the year 2016 there were a total of 771621  trips in Germany, of which 59.58% had a delay of at least 1 minute \n",
      " while those with no delay were a total of 40.42%\n"
     ]
    }
   ],
   "source": [
    "print(f'In the year 2016 there were a total of {total}  trips in Germany, of which {percentage_delay:.2f}% had a delay of at least 1 minute \\n while those with no delay were a total of {percentage_correct:.2f}%')\n"
   ]
  }
 ],
 "metadata": {
  "kernelspec": {
   "display_name": "Python 3",
   "language": "python",
   "name": "python3"
  },
  "language_info": {
   "codemirror_mode": {
    "name": "ipython",
    "version": 3
   },
   "file_extension": ".py",
   "mimetype": "text/x-python",
   "name": "python",
   "nbconvert_exporter": "python",
   "pygments_lexer": "ipython3",
   "version": "3.11.6"
  }
 },
 "nbformat": 4,
 "nbformat_minor": 2
}
